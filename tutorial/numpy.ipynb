{
 "metadata": {
  "language_info": {
   "codemirror_mode": {
    "name": "ipython",
    "version": 3
   },
   "file_extension": ".py",
   "mimetype": "text/x-python",
   "name": "python",
   "nbconvert_exporter": "python",
   "pygments_lexer": "ipython3",
   "version": "3.9.1-final"
  },
  "orig_nbformat": 2,
  "kernelspec": {
   "name": "python3",
   "display_name": "Python 3",
   "language": "python"
  }
 },
 "nbformat": 4,
 "nbformat_minor": 2,
 "cells": [
  {
   "source": [],
   "cell_type": "markdown",
   "metadata": {}
  },
  {
   "cell_type": "code",
   "execution_count": 24,
   "metadata": {},
   "outputs": [
    {
     "output_type": "stream",
     "name": "stdout",
     "text": [
      "[[ 0  1  2  3  4]\n [ 5  6  7  8  9]\n [10 11 12 13 14]]\n<class 'numpy.ndarray'>\n"
     ]
    }
   ],
   "source": [
    "import numpy as np\n",
    "import numpy.random as npr\n",
    "\n",
    "a = np.arange(15).reshape(3,5)\n",
    "print(a)\n",
    "print(type(a))"
   ]
  },
  {
   "cell_type": "code",
   "execution_count": 19,
   "metadata": {},
   "outputs": [
    {
     "output_type": "stream",
     "name": "stdout",
     "text": [
      "[2 3 4]\nint64\n[1.2 3.5 5.1]\nfloat64\n"
     ]
    }
   ],
   "source": [
    "a = np.array([2,3,4])\n",
    "print(a)\n",
    "print(a.dtype)\n",
    "\n",
    "b = np.array([1.2,3.5,5.1])\n",
    "print(b)\n",
    "print(b.dtype)"
   ]
  },
  {
   "cell_type": "code",
   "execution_count": 23,
   "metadata": {},
   "outputs": [
    {
     "output_type": "stream",
     "name": "stdout",
     "text": [
      "[[1.5 2.  3. ]\n [4.  5.  6. ]]\nfloat64\n[[1.+0.j 2.+0.j]\n [3.+0.j 4.+0.j]]\n"
     ]
    }
   ],
   "source": [
    "a = np.array([(1.5,2,3), (4,5,6)])\n",
    "print(a)\n",
    "print(a.dtype)\n",
    "\n",
    "b = np.array([[1,2],[3,4]], dtype=complex)\n",
    "print(b)"
   ]
  },
  {
   "cell_type": "code",
   "execution_count": 31,
   "metadata": {},
   "outputs": [
    {
     "output_type": "stream",
     "name": "stdout",
     "text": [
      "[[0. 0. 0. 0.]\n [0. 0. 0. 0.]\n [0. 0. 0. 0.]]\n[[[1 1 1 1]\n  [1 1 1 1]\n  [1 1 1 1]]\n\n [[1 1 1 1]\n  [1 1 1 1]\n  [1 1 1 1]]]\n[[1.39069238e-309 1.39069238e-309 1.39069238e-309]\n [1.39069238e-309 1.39069238e-309 1.39069238e-309]]\n"
     ]
    }
   ],
   "source": [
    "print(np.zeros((3,4)))\n",
    "print(np.ones((2,3,4), dtype=np.int64))\n",
    "print(np.empty((2,3)))"
   ]
  },
  {
   "cell_type": "code",
   "execution_count": 39,
   "metadata": {},
   "outputs": [
    {
     "output_type": "stream",
     "name": "stdout",
     "text": [
      "[10 15 20 25]\n[0.  0.3 0.6 0.9 1.2 1.5 1.8]\n[ 0.  1.  2.  3.  4.  5.  6.  7.  8.  9. 10. 11. 12. 13. 14. 15. 16. 17.\n 18. 19. 20. 21. 22. 23. 24. 25. 26. 27. 28. 29. 30. 31. 32. 33. 34. 35.\n 36. 37. 38. 39. 40. 41. 42. 43. 44. 45. 46. 47. 48. 49. 50. 51. 52. 53.\n 54. 55. 56. 57. 58. 59. 60. 61. 62. 63. 64. 65. 66. 67. 68. 69. 70. 71.\n 72. 73. 74. 75. 76. 77. 78. 79. 80. 81. 82. 83. 84. 85. 86. 87. 88. 89.\n 90. 91. 92. 93. 94. 95. 96. 97. 98. 99.]\n"
     ]
    }
   ],
   "source": [
    "print(np.arange(10, 30, 5))\n",
    "print(np.arange(0, 2, 0.3))\n",
    "\n",
    "# 0부터 99까지 100등분\n",
    "print(np.linspace(0, 99, 100))"
   ]
  },
  {
   "cell_type": "code",
   "execution_count": 41,
   "metadata": {},
   "outputs": [
    {
     "output_type": "stream",
     "name": "stdout",
     "text": [
      "[[   0    1    2 ...   97   98   99]\n [ 100  101  102 ...  197  198  199]\n [ 200  201  202 ...  297  298  299]\n ...\n [9700 9701 9702 ... 9797 9798 9799]\n [9800 9801 9802 ... 9897 9898 9899]\n [9900 9901 9902 ... 9997 9998 9999]]\n"
     ]
    }
   ],
   "source": [
    "print(np.arange(10000).reshape(100,100))"
   ]
  },
  {
   "cell_type": "code",
   "execution_count": 54,
   "metadata": {},
   "outputs": [
    {
     "output_type": "stream",
     "name": "stdout",
     "text": [
      "[0 1 2 3]\n[20 29 38 47]\n[0 1 4 9]\n[ 9.12945251 -9.88031624  7.4511316  -2.62374854]\n[ True  True False False]\n"
     ]
    }
   ],
   "source": [
    "a = np.array([20,30,40,50])\n",
    "b = np.arange(4)\n",
    "print(b)\n",
    "\n",
    "c = a - b\n",
    "print(c)\n",
    "\n",
    "print(b**2)\n",
    "\n",
    "print(10 * np.sin(a))\n",
    "\n",
    "print(a < 35)"
   ]
  },
  {
   "cell_type": "code",
   "execution_count": 57,
   "metadata": {},
   "outputs": [
    {
     "output_type": "stream",
     "name": "stdout",
     "text": [
      "[[2 0]\n [0 4]]\n[[5 4]\n [3 4]]\n[[5 4]\n [3 4]]\n"
     ]
    }
   ],
   "source": [
    "A = np.array( [[1,1], [0,1]])\n",
    "B = np.array( [[2,0], [3,4]])\n",
    "\n",
    "print(A*B)\n",
    "print(A@B)\n",
    "print(A.dot(B))"
   ]
  },
  {
   "cell_type": "code",
   "execution_count": 65,
   "metadata": {},
   "outputs": [
    {
     "output_type": "stream",
     "name": "stdout",
     "text": [
      "float64\n[1.         2.57079633 4.14159265]\n[ 0.54030231+0.84147098j -0.84147098+0.54030231j -0.54030231-0.84147098j]\n"
     ]
    }
   ],
   "source": [
    "a = np.ones(3, dtype=np.int32)\n",
    "b = np.linspace(0, np.pi, 3)\n",
    "print(b.dtype)\n",
    "\n",
    "c = a + b\n",
    "print(c)\n",
    "\n",
    "d = np.exp(c * 1j)\n",
    "print(d)"
   ]
  },
  {
   "cell_type": "code",
   "execution_count": 74,
   "metadata": {},
   "outputs": [
    {
     "output_type": "stream",
     "name": "stdout",
     "text": [
      "[[ 0  1  4  9]\n [16 25 36 49]]\n140\n0\n49\n7\n0\n[  0   1   5  14  30  55  91 140]\n"
     ]
    }
   ],
   "source": [
    "a = np.arange(8).reshape(2,4) ** 2\n",
    "print(a)\n",
    "\n",
    "print(a.sum())\n",
    "\n",
    "print(a.min())\n",
    "\n",
    "print(a.max())\n",
    "\n",
    "print(a.argmax())\n",
    "\n",
    "print(a.argmin())\n",
    "\n",
    "print(a.cumsum())"
   ]
  },
  {
   "cell_type": "code",
   "execution_count": 79,
   "metadata": {},
   "outputs": [
    {
     "output_type": "stream",
     "name": "stdout",
     "text": [
      "[[ 0  1  2  3]\n [ 4  5  6  7]\n [ 8  9 10 11]]\n[12 15 18 21]\n[ 6 22 38]\n"
     ]
    }
   ],
   "source": [
    "b = np.arange(12).reshape(3,4)\n",
    "print(b)\n",
    "\n",
    "print(b.sum(axis=0))\n",
    "print(b.sum(axis=1))"
   ]
  },
  {
   "cell_type": "code",
   "execution_count": 82,
   "metadata": {},
   "outputs": [
    {
     "output_type": "stream",
     "name": "stdout",
     "text": [
      "[0 1 2]\n[1.         2.71828183 7.3890561 ]\n[0.         1.         1.41421356]\n"
     ]
    }
   ],
   "source": [
    "B = np.arange(3)\n",
    "print(B)\n",
    "\n",
    "print(np.exp(B))\n",
    "\n",
    "print(np.sqrt(B))"
   ]
  },
  {
   "cell_type": "code",
   "execution_count": 89,
   "metadata": {},
   "outputs": [
    {
     "output_type": "stream",
     "name": "stdout",
     "text": [
      "[  0   1   8  27  64 125 216 343 512 729]\n8\n[ 8 27 64]\n[ 0  8 64]\n[729 512 343 216 125  64  27   8   1   0]\n0.0\n1.0\n2.0\n3.0\n3.9999999999999996\n4.999999999999999\n5.999999999999999\n6.999999999999999\n7.999999999999999\n8.999999999999998\n"
     ]
    }
   ],
   "source": [
    "a = np.arange(10)**3\n",
    "print(a)\n",
    "\n",
    "print(a[2])\n",
    "print(a[2:5])\n",
    "print(a[:6:2])\n",
    "print(a[::-1])\n",
    "for i in a:\n",
    "    print(i**(1/3.))"
   ]
  },
  {
   "cell_type": "code",
   "execution_count": 101,
   "metadata": {},
   "outputs": [
    {
     "output_type": "stream",
     "name": "stdout",
     "text": [
      "[[ 0  1  2  3]\n [10 11 12 13]\n [20 21 22 23]\n [30 31 32 33]\n [40 41 42 43]]\n[ 1 11 21 31 41]\n[ 1 11 21 31 41]\n[[10 11 12 13]\n [20 21 22 23]]\n[40 41 42 43]\n"
     ]
    }
   ],
   "source": [
    "def f(x,y):\n",
    "    return 10 * x+y\n",
    "\n",
    "b = np.fromfunction(f, (5,4), dtype=int)\n",
    "print(b)\n",
    "\n",
    "print(b[0:5, 1])\n",
    "\n",
    "print(b[:,1])\n",
    "\n",
    "print(b[1:3, :])\n",
    "\n",
    "print(b[-1])"
   ]
  },
  {
   "cell_type": "code",
   "execution_count": 111,
   "metadata": {},
   "outputs": [
    {
     "output_type": "stream",
     "name": "stdout",
     "text": [
      "(2, 2, 3)\n[[100 101 102]\n [110 112 113]]\n[[  2  13]\n [102 113]]\n"
     ]
    }
   ],
   "source": [
    "c = np.array( [[[0,1,2], [10,12,13]], [[100,101,102], [110,112,113]]])\n",
    "\n",
    "print(c.shape)\n",
    "\n",
    "print(c[1,... ])\n",
    "print(c[...,2])"
   ]
  },
  {
   "cell_type": "code",
   "execution_count": 114,
   "metadata": {},
   "outputs": [
    {
     "output_type": "stream",
     "name": "stdout",
     "text": [
      "[0 1 2 3]\n[10 11 12 13]\n[20 21 22 23]\n[30 31 32 33]\n[40 41 42 43]\n0\n1\n2\n3\n10\n11\n12\n13\n20\n21\n22\n23\n30\n31\n32\n33\n40\n41\n42\n43\n"
     ]
    }
   ],
   "source": [
    "for row in b:\n",
    "    print(row)\n",
    "\n",
    "for element in b.flat:\n",
    "    print(element)"
   ]
  },
  {
   "cell_type": "code",
   "execution_count": 123,
   "metadata": {},
   "outputs": [
    {
     "output_type": "stream",
     "name": "stdout",
     "text": [
      "[[8. 2. 3. 9.]\n [1. 9. 8. 0.]\n [6. 5. 1. 8.]]\n(3, 4)\n[8. 2. 3. 9. 1. 9. 8. 0. 6. 5. 1. 8.]\n[[8. 2. 3. 9. 1. 9.]\n [8. 0. 6. 5. 1. 8.]]\n[[8. 1. 6.]\n [2. 9. 5.]\n [3. 8. 1.]\n [9. 0. 8.]]\n(4, 3)\n(3, 4)\n"
     ]
    }
   ],
   "source": [
    "a = np.floor(10*npr.random((3,4)))\n",
    "print(a)\n",
    "\n",
    "print(a.shape)\n",
    "\n",
    "print(a.ravel())\n",
    "\n",
    "print(a.reshape(2,6))\n",
    "\n",
    "print(a.T)\n",
    "\n",
    "print(a.T.shape)\n",
    "\n",
    "print(a.shape)"
   ]
  },
  {
   "cell_type": "code",
   "execution_count": 130,
   "metadata": {},
   "outputs": [
    {
     "output_type": "stream",
     "name": "stdout",
     "text": [
      "[[8. 2. 3. 9. 1. 9.]\n [8. 0. 6. 5. 1. 8.]]\n[[8. 2. 3. 9. 1. 9.]\n [8. 0. 6. 5. 1. 8.]]\n[[8. 2. 3. 9.]\n [1. 9. 8. 0.]\n [6. 5. 1. 8.]]\n"
     ]
    }
   ],
   "source": [
    "print(a)\n",
    "\n",
    "a.resize((2,6))\n",
    "print(a)\n",
    "\n",
    "print(a.reshape(3,-1))"
   ]
  },
  {
   "cell_type": "code",
   "execution_count": 140,
   "metadata": {},
   "outputs": [
    {
     "output_type": "stream",
     "name": "stdout",
     "text": [
      "[[5. 9.]\n [0. 9.]]\n[[8. 7.]\n [0. 6.]]\n[[5. 9.]\n [0. 9.]\n [8. 7.]\n [0. 6.]]\n[[5. 9. 8. 7.]\n [0. 9. 0. 6.]]\n"
     ]
    }
   ],
   "source": [
    "a = np.floor(10 * npr.random((2,2)))\n",
    "print(a)\n",
    "\n",
    "b = np.floor(10 * npr.random((2,2)))\n",
    "print(b)\n",
    "\n",
    "print(np.vstack((a,b)))\n",
    "print(np.hstack((a,b)))"
   ]
  },
  {
   "cell_type": "code",
   "execution_count": 155,
   "metadata": {},
   "outputs": [
    {
     "output_type": "stream",
     "name": "stdout",
     "text": [
      "[[8. 0. 7. 1. 6. 1. 5. 3. 3. 4. 4. 2.]\n [5. 8. 6. 9. 7. 5. 5. 3. 0. 1. 0. 8.]]\n[array([[8., 0., 7., 1.],\n       [5., 8., 6., 9.]]), array([[6., 1., 5., 3.],\n       [7., 5., 5., 3.]]), array([[3., 4., 4., 2.],\n       [0., 1., 0., 8.]])]\n[array([[8., 0.],\n       [5., 8.]]), array([[7.],\n       [6.]]), array([[1.],\n       [9.]]), array([[6.],\n       [7.]]), array([[1.],\n       [5.]]), array([[5., 3., 3., 4., 4., 2.],\n       [5., 3., 0., 1., 0., 8.]])]\n"
     ]
    }
   ],
   "source": [
    "a = np.floor(10 * npr.random((2,12)))\n",
    "print(a)\n",
    "\n",
    "print(np.hsplit(a,3))\n",
    "\n",
    "print(np.hsplit(a,(2,3,4,5,6)))"
   ]
  },
  {
   "cell_type": "code",
   "execution_count": 158,
   "metadata": {},
   "outputs": [
    {
     "output_type": "stream",
     "name": "stdout",
     "text": [
      "True\n4965914736\n4965914736\n"
     ]
    }
   ],
   "source": [
    "a = np.array([[ 0,  1,  2,  3],\n",
    "              [ 4,  5,  6,  7],\n",
    "              [ 8,  9, 10, 11]])\n",
    "# 두 개가 사실상 같습니다. (복사가 아님)\n",
    "b = a\n",
    "print(b is a)\n",
    "# True\n",
    "\n",
    "print(id(a))\n",
    "\n",
    "print(id(b))"
   ]
  },
  {
   "cell_type": "code",
   "execution_count": 169,
   "metadata": {},
   "outputs": [
    {
     "output_type": "stream",
     "name": "stdout",
     "text": [
      "False\n(3, 4)\n[[   0   10   10    3]\n [1234   10   10    7]\n [   8   10   10   11]]\n[[   0   10   10    3]\n [1234   10   10    7]\n [   8   10   10   11]]\n"
     ]
    }
   ],
   "source": [
    "c = a.view()\n",
    "print(c is a)\n",
    "\n",
    "c = c.reshape((2,6))\n",
    "print(a.shape)\n",
    "\n",
    "c[0,4] = 1234\n",
    "print(a)\n",
    "\n",
    "s = a[:,1:3]\n",
    "s[:] = 10\n",
    "print(a)"
   ]
  },
  {
   "cell_type": "code",
   "execution_count": 172,
   "metadata": {},
   "outputs": [
    {
     "output_type": "stream",
     "name": "stdout",
     "text": [
      "False\n[[   0   10   10    3]\n [1234   10   10    7]\n [   8   10   10   11]]\n"
     ]
    }
   ],
   "source": [
    "d = a.copy()\n",
    "print(d is a)\n",
    "\n",
    "d[0,0] = 9999\n",
    "print(a)"
   ]
  },
  {
   "cell_type": "code",
   "execution_count": 176,
   "metadata": {},
   "outputs": [
    {
     "output_type": "error",
     "ename": "NameError",
     "evalue": "name 'a' is not defined",
     "traceback": [
      "\u001b[0;31m---------------------------------------------------------------------------\u001b[0m",
      "\u001b[0;31mNameError\u001b[0m                                 Traceback (most recent call last)",
      "\u001b[0;32m<ipython-input-176-0dc2c485749d>\u001b[0m in \u001b[0;36m<module>\u001b[0;34m\u001b[0m\n\u001b[1;32m      2\u001b[0m \u001b[0mb\u001b[0m \u001b[0;34m=\u001b[0m \u001b[0ma\u001b[0m\u001b[0;34m[\u001b[0m\u001b[0;34m:\u001b[0m\u001b[0;36m100\u001b[0m\u001b[0;34m]\u001b[0m\u001b[0;34m.\u001b[0m\u001b[0mcopy\u001b[0m\u001b[0;34m(\u001b[0m\u001b[0;34m)\u001b[0m\u001b[0;34m\u001b[0m\u001b[0;34m\u001b[0m\u001b[0m\n\u001b[1;32m      3\u001b[0m \u001b[0;32mdel\u001b[0m \u001b[0ma\u001b[0m\u001b[0;34m\u001b[0m\u001b[0;34m\u001b[0m\u001b[0m\n\u001b[0;32m----> 4\u001b[0;31m \u001b[0mprint\u001b[0m\u001b[0;34m(\u001b[0m\u001b[0ma\u001b[0m\u001b[0;34m)\u001b[0m\u001b[0;34m\u001b[0m\u001b[0;34m\u001b[0m\u001b[0m\n\u001b[0m",
      "\u001b[0;31mNameError\u001b[0m: name 'a' is not defined"
     ]
    }
   ],
   "source": [
    "a = np.arange(int(1e8))\n",
    "b = a[:100].copy()\n",
    "del a\n",
    "print(a)"
   ]
  },
  {
   "cell_type": "code",
   "execution_count": null,
   "metadata": {},
   "outputs": [],
   "source": [
    "np"
   ]
  }
 ]
}