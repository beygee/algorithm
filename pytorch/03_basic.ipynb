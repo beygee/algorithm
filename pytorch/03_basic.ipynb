{
 "metadata": {
  "language_info": {
   "codemirror_mode": {
    "name": "ipython",
    "version": 3
   },
   "file_extension": ".py",
   "mimetype": "text/x-python",
   "name": "python",
   "nbconvert_exporter": "python",
   "pygments_lexer": "ipython3",
   "version": "3.9.1-final"
  },
  "orig_nbformat": 2,
  "kernelspec": {
   "name": "python3",
   "display_name": "Python 3",
   "language": "python"
  }
 },
 "nbformat": 4,
 "nbformat_minor": 2,
 "cells": [
  {
   "cell_type": "code",
   "execution_count": 27,
   "metadata": {},
   "outputs": [
    {
     "output_type": "stream",
     "name": "stdout",
     "text": [
      "tensor([[1, 2, 3],\n        [4, 5, 6],\n        [7, 8, 9]])\nSize:  torch.Size([3, 3])\nShape:  torch.Size([3, 3])\n랭크(차원):  2\n"
     ]
    }
   ],
   "source": [
    "import torch\n",
    "\n",
    "x = torch.tensor([[1,2,3],[4,5,6],[7,8,9]])\n",
    "print(x)    \n",
    "print(\"Size: \", x.size())\n",
    "print(\"Shape: \", x.shape)\n",
    "print(\"랭크(차원): \", x.ndimension())"
   ]
  },
  {
   "cell_type": "code",
   "execution_count": 48,
   "metadata": {},
   "outputs": [
    {
     "output_type": "stream",
     "name": "stdout",
     "text": [
      "tensor([[[1, 2, 3],\n         [4, 5, 6],\n         [7, 8, 9]]])\nSize:  torch.Size([1, 3, 3])\nShape:  torch.Size([1, 3, 3])\n랭크(차원):  3\n"
     ]
    }
   ],
   "source": [
    "x = torch.unsqueeze(x, 0)\n",
    "print(x)\n",
    "print(\"Size: \", x.size())\n",
    "print(\"Shape: \", x.shape)\n",
    "print(\"랭크(차원): \", x.ndimension())"
   ]
  },
  {
   "cell_type": "code",
   "execution_count": 56,
   "metadata": {},
   "outputs": [
    {
     "output_type": "stream",
     "name": "stdout",
     "text": [
      "tensor([[1, 2, 3],\n        [4, 5, 6],\n        [7, 8, 9]])\nSize:  torch.Size([3, 3])\nShape:  torch.Size([3, 3])\n랭크(차원):  2\n"
     ]
    }
   ],
   "source": [
    "x = torch.squeeze(x)\n",
    "print(x)\n",
    "print(\"Size: \", x.size())\n",
    "print(\"Shape: \", x.shape)\n",
    "print(\"랭크(차원): \", x.ndimension())"
   ]
  },
  {
   "cell_type": "code",
   "execution_count": 67,
   "metadata": {},
   "outputs": [
    {
     "output_type": "stream",
     "name": "stdout",
     "text": [
      "tensor([1, 2, 3, 4, 5, 6, 7, 8, 9])\n"
     ]
    }
   ],
   "source": [
    "x = x.view(9)\n",
    "print(x)"
   ]
  },
  {
   "cell_type": "code",
   "execution_count": 71,
   "metadata": {},
   "outputs": [
    {
     "output_type": "stream",
     "name": "stdout",
     "text": [
      "shape '[2, 4]' is invalid for input of size 9\n"
     ]
    }
   ],
   "source": [
    "try:\n",
    "    x = x.view(2,4)\n",
    "except Exception as e:\n",
    "    print(e)"
   ]
  },
  {
   "cell_type": "code",
   "execution_count": 96,
   "metadata": {},
   "outputs": [
    {
     "output_type": "stream",
     "name": "stdout",
     "text": [
      "w size:  torch.Size([5, 3])\nx size:  torch.Size([3, 2])\nw:  tensor([[-0.8797,  0.9983,  0.6141],\n        [ 1.3393, -1.1069,  1.0659],\n        [ 0.9716, -0.3736,  0.1110],\n        [ 0.8518, -1.1564, -1.1309],\n        [ 1.0559,  0.5141, -0.7844]])\nx:  tensor([[1., 2.],\n        [3., 4.],\n        [5., 6.]])\n"
     ]
    }
   ],
   "source": [
    "w = torch.randn(5, 3, dtype=torch.float)\n",
    "x = torch.tensor([[1.0,2.0], [3.0,4.0], [5.0,6.0]])\n",
    "print(\"w size: \", w.size())\n",
    "print(\"x size: \", x.size())\n",
    "print(\"w: \", w)\n",
    "print(\"x: \", x)\n"
   ]
  },
  {
   "cell_type": "code",
   "execution_count": 99,
   "metadata": {},
   "outputs": [
    {
     "output_type": "stream",
     "name": "stdout",
     "text": [
      "b size:  torch.Size([5, 2])\nb:  tensor([[-0.3664, -0.1025],\n        [-1.0050, -0.0518],\n        [ 0.9398,  0.1759],\n        [-0.0903, -0.9461],\n        [ 0.8158, -0.6852]])\n"
     ]
    }
   ],
   "source": [
    "b = torch.randn(5,2,dtype=torch.float)\n",
    "print(\"b size: \", b.size())\n",
    "print(\"b: \", b)"
   ]
  },
  {
   "cell_type": "code",
   "execution_count": 106,
   "metadata": {},
   "outputs": [
    {
     "output_type": "stream",
     "name": "stdout",
     "text": [
      "wx size:  torch.Size([5, 2])\nwx:  tensor([[ 5.1856,  5.9183],\n        [ 3.3480,  4.6463],\n        [ 0.4060,  1.1151],\n        [-8.2718, -9.7073],\n        [-1.3235, -0.5378]])\n"
     ]
    }
   ],
   "source": [
    "wx = torch.mm(w, x)\n",
    "print(\"wx size: \", wx.size())\n",
    "print(\"wx: \", wx)"
   ]
  },
  {
   "cell_type": "code",
   "execution_count": 107,
   "metadata": {},
   "outputs": [
    {
     "output_type": "stream",
     "name": "stdout",
     "text": [
      "result size:  torch.Size([5, 2])\nresult:  tensor([[  4.8192,   5.8158],\n        [  2.3431,   4.5945],\n        [  1.3458,   1.2910],\n        [ -8.3621, -10.6534],\n        [ -0.5077,  -1.2230]])\n"
     ]
    }
   ],
   "source": [
    "result = wx + b\n",
    "print(\"result size: \", result.size())\n",
    "print(\"result: \", result)"
   ]
  }
 ]
}